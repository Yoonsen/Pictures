{
 "cells": [
  {
   "cell_type": "code",
   "execution_count": 1,
   "metadata": {},
   "outputs": [
    {
     "name": "stdout",
     "output_type": "stream",
     "text": [
      "Updated file nbtext.py\n",
      "Updated file nbpictures.py\n"
     ]
    }
   ],
   "source": [
    "from module_update import update"
   ]
  },
  {
   "cell_type": "code",
   "execution_count": 2,
   "metadata": {},
   "outputs": [
    {
     "name": "stdout",
     "output_type": "stream",
     "text": [
      "Updated file nbpictures.py\n"
     ]
    }
   ],
   "source": [
    "update('nbpictures')"
   ]
  },
  {
   "cell_type": "code",
   "execution_count": 3,
   "metadata": {},
   "outputs": [],
   "source": [
    "import requests\n",
    "\n",
    "import nbpictures as nbp\n",
    "\n",
    "%matplotlib inline"
   ]
  },
  {
   "cell_type": "markdown",
   "metadata": {},
   "source": [
    "\n",
    "Koden henviser til filnavn i ALTO-mappen som inneholder alle sidene i det digitaliserte verket:\n",
    "\n",
    "**Aviser**\n",
    "\n",
    "```\n",
    "\"http://www.nb.no/services/image/resolver/URN:NBN:no-nb_digavis_{filename}/{SCALEDHPOS},{SCALEDVPOS},{SCALEDWIDTH},{SCALEDHEIGHT}/full/0/native.jpg\".format(\n",
    "filename=\"adresseavisen_null_null_19671123_201_273_1-1_023_null\",     \n",
    "SCALEDHPOS=1310, \n",
    "SCALEDVPOS=147, \n",
    "SCALEDWIDTH=1645, \n",
    "SCALEDHEIGHT=886\n",
    ")```\n",
    "\n",
    "\n",
    "For bøker ligger allerede `digibok_` inne i selve filnavnet, så vi tar bare med prefikset `no-nb_` for dem:\n",
    "\n",
    "**Bøker**\n",
    "\n",
    "```\n",
    "\"requests.get(\"http://www.nb.no/services/image/resolver/URN:NBN:no-nb_{filename}/{SCALEDHPOS},{SCALEDVPOS},{SCALEDWIDTH},{SCALEDHEIGHT}/full/0/native.jpg\".format(\n",
    "    filename=\"digibok_2009081400013_0389\", \n",
    "SCALEDHPOS=100, SCALEDVPOS=200, SCALEDWIDTH=100, SCALEDHEIGHT=100))\n",
    "\n",
    "\n",
    "\n",
    "\n",
    ")```"
   ]
  },
  {
   "cell_type": "markdown",
   "metadata": {},
   "source": [
    "\n",
    "# For aviser"
   ]
  },
  {
   "cell_type": "code",
   "execution_count": 7,
   "metadata": {},
   "outputs": [
    {
     "ename": "OSError",
     "evalue": "cannot identify image file <_io.BytesIO object at 0x000002B5D571F990>",
     "output_type": "error",
     "traceback": [
      "\u001b[1;31m---------------------------------------------------------------------------\u001b[0m",
      "\u001b[1;31mOSError\u001b[0m                                   Traceback (most recent call last)",
      "\u001b[1;32m<ipython-input-7-63dc659ba58d>\u001b[0m in \u001b[0;36m<module>\u001b[1;34m()\u001b[0m\n\u001b[0;32m      1\u001b[0m p = nbp.get_picture_from_url(\"http://www.nb.no/services/image/resolver/URN:NBN:no-nb_digavis_{filename}/{SCALEDHPOS},{SCALEDVPOS},{SCALEDWIDTH},{SCALEDHEIGHT}/full/0/native.jpg\".format(\n\u001b[0;32m      2\u001b[0m     \u001b[0mfilename\u001b[0m\u001b[1;33m=\u001b[0m\u001b[1;34m\"adresseavisen_null_null_19671123_201_273_1-1_023_null\"\u001b[0m\u001b[1;33m,\u001b[0m\u001b[1;33m\u001b[0m\u001b[0m\n\u001b[1;32m----> 3\u001b[1;33m SCALEDHPOS=1110, SCALEDVPOS=147, SCALEDWIDTH=1645, SCALEDHEIGHT=886))\n\u001b[0m",
      "\u001b[1;32mD:\\Documents\\GitHub\\Pictures\\nbpictures.py\u001b[0m in \u001b[0;36mget_picture_from_url\u001b[1;34m(url, width, height)\u001b[0m\n\u001b[0;32m     80\u001b[0m     return Image.open(\n\u001b[0;32m     81\u001b[0m         load_picture(\n\u001b[1;32m---> 82\u001b[1;33m             \u001b[0murl\u001b[0m\u001b[1;33m.\u001b[0m\u001b[0mformat\u001b[0m\u001b[1;33m(\u001b[0m\u001b[0mwidth\u001b[0m\u001b[1;33m=\u001b[0m\u001b[0mwidth\u001b[0m\u001b[1;33m,\u001b[0m \u001b[0mheight\u001b[0m\u001b[1;33m=\u001b[0m\u001b[0mheight\u001b[0m\u001b[1;33m)\u001b[0m\u001b[1;33m\u001b[0m\u001b[0m\n\u001b[0m\u001b[0;32m     83\u001b[0m         )\n\u001b[0;32m     84\u001b[0m     )\n",
      "\u001b[1;32mD:\\Anaconda3\\lib\\site-packages\\PIL\\Image.py\u001b[0m in \u001b[0;36mopen\u001b[1;34m(fp, mode)\u001b[0m\n\u001b[0;32m   2620\u001b[0m         \u001b[0mfp\u001b[0m\u001b[1;33m.\u001b[0m\u001b[0mclose\u001b[0m\u001b[1;33m(\u001b[0m\u001b[1;33m)\u001b[0m\u001b[1;33m\u001b[0m\u001b[0m\n\u001b[0;32m   2621\u001b[0m     raise IOError(\"cannot identify image file %r\"\n\u001b[1;32m-> 2622\u001b[1;33m                   % (filename if filename else fp))\n\u001b[0m\u001b[0;32m   2623\u001b[0m \u001b[1;33m\u001b[0m\u001b[0m\n\u001b[0;32m   2624\u001b[0m \u001b[1;31m#\u001b[0m\u001b[1;33m\u001b[0m\u001b[1;33m\u001b[0m\u001b[0m\n",
      "\u001b[1;31mOSError\u001b[0m: cannot identify image file <_io.BytesIO object at 0x000002B5D571F990>"
     ]
    }
   ],
   "source": [
    "p = nbp.get_picture_from_url(\"http://www.nb.no/services/image/resolver/URN:NBN:no-nb_digavis_{filename}/{SCALEDHPOS},{SCALEDVPOS},{SCALEDWIDTH},{SCALEDHEIGHT}/full/0/native.jpg\".format(\n",
    "    filename=\"adresseavisen_null_null_19671123_201_273_1-1_023_null\", \n",
    "SCALEDHPOS=1110, SCALEDVPOS=147, SCALEDWIDTH=1645, SCALEDHEIGHT=886))"
   ]
  },
  {
   "cell_type": "markdown",
   "metadata": {},
   "source": [
    "# For bøker"
   ]
  },
  {
   "cell_type": "code",
   "execution_count": 5,
   "metadata": {},
   "outputs": [
    {
     "name": "stdout",
     "output_type": "stream",
     "text": [
      "<Response [200]>\n"
     ]
    }
   ],
   "source": [
    "r = requests.get(\"http://www.nb.no/services/image/resolver/URN:NBN:no-nb_{filename}/{SCALEDHPOS},{SCALEDVPOS},{SCALEDWIDTH},{SCALEDHEIGHT}/full/0/native.jpg\".format(\n",
    "    filename=\"digibok_2009081400013_0389\", \n",
    "SCALEDHPOS=100, SCALEDVPOS=200, SCALEDWIDTH=100, SCALEDHEIGHT=100))\n",
    "print(r)"
   ]
  },
  {
   "cell_type": "code",
   "execution_count": 8,
   "metadata": {},
   "outputs": [
    {
     "name": "stdout",
     "output_type": "stream",
     "text": [
      "<Response [200]>\n"
     ]
    }
   ],
   "source": [
    "nbp.get_picture_from_url(\"http://www.nb.no/services/image/resolver/URN:NBN:no-nb_{filename}/{SCALEDHPOS},{SCALEDVPOS},{SCALEDWIDTH},{SCALEDHEIGHT}/full/0/native.jpg\".format(\n",
    "    filename=\"digibok_2009081400013_0389\", \n",
    "SCALEDHPOS=100, SCALEDVPOS=200, SCALEDWIDTH=100, SCALEDHEIGHT=100))"
   ]
  },
  {
   "cell_type": "code",
   "execution_count": null,
   "metadata": {},
   "outputs": [],
   "source": []
  }
 ],
 "metadata": {
  "kernelspec": {
   "display_name": "Python 3",
   "language": "python",
   "name": "python3"
  },
  "language_info": {
   "codemirror_mode": {
    "name": "ipython",
    "version": 3
   },
   "file_extension": ".py",
   "mimetype": "text/x-python",
   "name": "python",
   "nbconvert_exporter": "python",
   "pygments_lexer": "ipython3",
   "version": "3.7.0"
  }
 },
 "nbformat": 4,
 "nbformat_minor": 2
}

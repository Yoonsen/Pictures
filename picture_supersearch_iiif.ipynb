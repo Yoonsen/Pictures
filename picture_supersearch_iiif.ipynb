{
 "cells": [
  {
   "cell_type": "code",
   "execution_count": 1,
   "metadata": {},
   "outputs": [
    {
     "name": "stdout",
     "output_type": "stream",
     "text": [
      "Updated file nbtext.py\n",
      "Updated file nbpictures.py\n"
     ]
    }
   ],
   "source": [
    "import module_update\n",
    "from PIL import Image\n",
    "import requests\n",
    "import json"
   ]
  },
  {
   "cell_type": "code",
   "execution_count": 14,
   "metadata": {},
   "outputs": [],
   "source": [
    "import nbpictures as pct"
   ]
  },
  {
   "cell_type": "code",
   "execution_count": 2,
   "metadata": {},
   "outputs": [],
   "source": [
    "from nbpictures import super_search, iiif_manifest"
   ]
  },
  {
   "cell_type": "code",
   "execution_count": 3,
   "metadata": {},
   "outputs": [],
   "source": [
    "def mods(urn):\n",
    "    r = requests.get(\"https://api.nb.no:443/catalog/v1/metadata/{urn}/mods\".format(urn=urn))\n",
    "    return r.text"
   ]
  },
  {
   "cell_type": "code",
   "execution_count": 4,
   "metadata": {},
   "outputs": [],
   "source": [
    "import imp\n"
   ]
  },
  {
   "cell_type": "code",
   "execution_count": 5,
   "metadata": {},
   "outputs": [],
   "source": [
    "def load_picture(url):\n",
    "    r = requests.get(url, stream=True)\n",
    "    r.raw.decode_content=True\n",
    "    #print(r.status_code)\n",
    "    return r.raw"
   ]
  },
  {
   "cell_type": "code",
   "execution_count": 6,
   "metadata": {},
   "outputs": [],
   "source": [
    "def find_picture(term):\n",
    "    x = super_search(term)\n",
    "    urns = [f['metadata']['identifiers']['urn'] for f in  x['_embedded']['mediaTypeResults'][0]['result']['_embedded']['items'] if 'urn' in f['metadata']['identifiers']]\n",
    "    found = [get_manifest(urn) for urn in urns]\n",
    "    return [p['sequences'][0]['canvases'][0]['images'][0]['resource']['@id'] for p in found]"
   ]
  },
  {
   "cell_type": "code",
   "execution_count": 7,
   "metadata": {},
   "outputs": [],
   "source": [
    "picture = lambda result, i, size: result['_embedded']['mediaTypeResults'][0]['result']['_embedded']['items'][i]['_links']['thumbnail_custom']['href'].format(width=0, height=size)"
   ]
  },
  {
   "cell_type": "code",
   "execution_count": 8,
   "metadata": {},
   "outputs": [],
   "source": [
    "def find_urns(term, n=50, p=0):\n",
    "    \"\"\"Find picture URNs for term\"\"\"\n",
    "    x = super_search(term, n, p)\n",
    "    urns = [\n",
    "        f['metadata']['identifiers']['urn'] \n",
    "        for f in x['_embedded']['mediaTypeResults'][0]['result']['_embedded']['items']\n",
    "        if f['accessInfo']['accessAllowedFrom'] == 'EVERYWHERE'\n",
    "        and'urn' in f['metadata']['identifiers']]\n",
    "    return urns"
   ]
  },
  {
   "cell_type": "code",
   "execution_count": 18,
   "metadata": {},
   "outputs": [],
   "source": [
    "pct.find_urls??"
   ]
  },
  {
   "cell_type": "code",
   "execution_count": 9,
   "metadata": {},
   "outputs": [],
   "source": [
    "def find_urls(term, n=50, p=0):\n",
    "    \"\"\"generates urls from super_search for pictures\"\"\"\n",
    "    x = super_search(term, n, p)\n",
    "    try:\n",
    "        urls = [\n",
    "            f['_links']['thumbnail_custom']['href']\n",
    "            for f in x['_embedded']['mediaTypeResults'][0]['result']['_embedded']['items'] \n",
    "            if f['accessInfo']['accessAllowedFrom'] == 'EVERYWHERE'\n",
    "            and 'thumbnail_custom' in f['_links']\n",
    "        ]\n",
    "    except:\n",
    "        urls = [' ... hmm ...']\n",
    "    return urls"
   ]
  },
  {
   "cell_type": "code",
   "execution_count": 10,
   "metadata": {},
   "outputs": [],
   "source": [
    "def get_picture_from_urn(urn, width=0, height=300):\n",
    "    url = \"https://www.nb.no/services/image/resolver/{urn}/full/{width},{height}/0/native.jpg\".format(urn=urn, width=width, height=height)\n",
    "    print(url)\n",
    "    return Image.open(load_picture(url))\n",
    "\n",
    "def get_picture_from_url(url, width=0, height=300):\n",
    "    print(url)\n",
    "    return Image.open(\n",
    "        load_picture(\n",
    "            url.format(width=width, height=height)\n",
    "        )\n",
    "    )"
   ]
  },
  {
   "cell_type": "code",
   "execution_count": 16,
   "metadata": {},
   "outputs": [
    {
     "data": {
      "text/plain": [
       "['https://www.nb.no/services/image/resolver/URN:NBN:no-nb_foto_NF_WB_18479/full/{width},{height}/0/native.jpg',\n",
       " 'https://www.nb.no/services/image/resolver/URN:NBN:no-nb_foto_NF_WB_18476/full/{width},{height}/0/native.jpg',\n",
       " 'https://www.nb.no/services/image/resolver/URN:NBN:no-nb_foto_NF_WB_18478/full/{width},{height}/0/native.jpg',\n",
       " 'https://www.nb.no/services/image/resolver/URN:NBN:no-nb_foto_NF_WB_18477/full/{width},{height}/0/native.jpg',\n",
       " 'https://www.nb.no/services/image/resolver/URN:NBN:no-nb_foto_NF_W_20670/full/{width},{height}/0/native.jpg',\n",
       " 'https://www.nb.no/services/image/resolver/URN:NBN:no-nb_digifoto_20140717_00004_bldsa_fFA00187/full/{width},{height}/0/native.jpg',\n",
       " 'https://www.nb.no/services/image/resolver/URN:NBN:no-nb_foto_NF_WF_07887/full/{width},{height}/0/native.jpg',\n",
       " 'https://www.nb.no/services/image/resolver/URN:NBN:no-nb_foto_NF_WF_07885/full/{width},{height}/0/native.jpg',\n",
       " 'https://www.nb.no/services/image/resolver/URN:NBN:no-nb_foto_NF_WF_07883/full/{width},{height}/0/native.jpg',\n",
       " 'https://www.nb.no/services/image/resolver/URN:NBN:no-nb_foto_NF_WF_07886/full/{width},{height}/0/native.jpg']"
      ]
     },
     "execution_count": 16,
     "metadata": {},
     "output_type": "execute_result"
    }
   ],
   "source": [
    "pct.find_urls('AK', 50, 0)"
   ]
  },
  {
   "cell_type": "code",
   "execution_count": 19,
   "metadata": {},
   "outputs": [],
   "source": [
    "pct.find_urns??"
   ]
  },
  {
   "cell_type": "code",
   "execution_count": 17,
   "metadata": {},
   "outputs": [
    {
     "ename": "KeyError",
     "evalue": "'mediaTypeResults'",
     "output_type": "error",
     "traceback": [
      "\u001b[1;31m---------------------------------------------------------------------------\u001b[0m",
      "\u001b[1;31mKeyError\u001b[0m                                  Traceback (most recent call last)",
      "\u001b[1;32m<ipython-input-17-1ac67a46bb8c>\u001b[0m in \u001b[0;36m<module>\u001b[1;34m()\u001b[0m\n\u001b[1;32m----> 1\u001b[1;33m \u001b[0mpct\u001b[0m\u001b[1;33m.\u001b[0m\u001b[0mfind_urns\u001b[0m\u001b[1;33m(\u001b[0m\u001b[1;34m'AK'\u001b[0m\u001b[1;33m)\u001b[0m\u001b[1;33m\u001b[0m\u001b[0m\n\u001b[0m",
      "\u001b[1;32m~\\Documents\\GitHub\\Pictures\\nbpictures.py\u001b[0m in \u001b[0;36mfind_urns\u001b[1;34m(term)\u001b[0m\n\u001b[0;32m     92\u001b[0m     urns = [\n\u001b[0;32m     93\u001b[0m         \u001b[0mf\u001b[0m\u001b[1;33m[\u001b[0m\u001b[1;34m'metadata'\u001b[0m\u001b[1;33m]\u001b[0m\u001b[1;33m[\u001b[0m\u001b[1;34m'identifiers'\u001b[0m\u001b[1;33m]\u001b[0m\u001b[1;33m[\u001b[0m\u001b[1;34m'urn'\u001b[0m\u001b[1;33m]\u001b[0m\u001b[1;33m\u001b[0m\u001b[0m\n\u001b[1;32m---> 94\u001b[1;33m         \u001b[1;32mfor\u001b[0m \u001b[0mf\u001b[0m \u001b[1;32min\u001b[0m  \u001b[0mss\u001b[0m\u001b[1;33m[\u001b[0m\u001b[1;34m'_embedded'\u001b[0m\u001b[1;33m]\u001b[0m\u001b[1;33m[\u001b[0m\u001b[1;34m'mediaTypeResults'\u001b[0m\u001b[1;33m]\u001b[0m\u001b[1;33m[\u001b[0m\u001b[1;36m0\u001b[0m\u001b[1;33m]\u001b[0m\u001b[1;33m[\u001b[0m\u001b[1;34m'result'\u001b[0m\u001b[1;33m]\u001b[0m\u001b[1;33m[\u001b[0m\u001b[1;34m'_embedded'\u001b[0m\u001b[1;33m]\u001b[0m\u001b[1;33m[\u001b[0m\u001b[1;34m'items'\u001b[0m\u001b[1;33m]\u001b[0m\u001b[1;33m\u001b[0m\u001b[0m\n\u001b[0m\u001b[0;32m     95\u001b[0m         \u001b[1;32mif\u001b[0m \u001b[1;34m'urn'\u001b[0m \u001b[1;32min\u001b[0m \u001b[0mf\u001b[0m\u001b[1;33m[\u001b[0m\u001b[1;34m'metadata'\u001b[0m\u001b[1;33m]\u001b[0m\u001b[1;33m[\u001b[0m\u001b[1;34m'identifiers'\u001b[0m\u001b[1;33m]\u001b[0m\u001b[1;33m\u001b[0m\u001b[0m\n\u001b[0;32m     96\u001b[0m     ]\n",
      "\u001b[1;31mKeyError\u001b[0m: 'mediaTypeResults'"
     ]
    }
   ],
   "source": [
    "pct.find_urns('AK')"
   ]
  },
  {
   "cell_type": "code",
   "execution_count": null,
   "metadata": {},
   "outputs": [],
   "source": [
    "triple = iiif_manifest(_269[4])"
   ]
  },
  {
   "cell_type": "code",
   "execution_count": null,
   "metadata": {},
   "outputs": [],
   "source": [
    "r = []\n",
    "if not 'error' in triple:\n",
    "    r = [x['value'] for x in triple['metadata']  if 'label' in x and x['label']=='Emne']\n",
    "else:\n",
    "    r = triple['error']\n",
    "r"
   ]
  },
  {
   "cell_type": "code",
   "execution_count": null,
   "metadata": {},
   "outputs": [],
   "source": [
    "triple"
   ]
  },
  {
   "cell_type": "code",
   "execution_count": null,
   "metadata": {},
   "outputs": [],
   "source": [
    "get_picture_from_urn(_269[4])"
   ]
  },
  {
   "cell_type": "code",
   "execution_count": null,
   "metadata": {},
   "outputs": [],
   "source": [
    "iiif_manifest(_269[5])"
   ]
  },
  {
   "cell_type": "code",
   "execution_count": null,
   "metadata": {},
   "outputs": [],
   "source": []
  },
  {
   "cell_type": "code",
   "execution_count": null,
   "metadata": {},
   "outputs": [],
   "source": [
    "Image.open(load_picture(bilde_fra_urn.format(urn= 'URN:NBN:no-nb_foto_NF_WB_44475', w=300, h=0)))"
   ]
  },
  {
   "cell_type": "code",
   "execution_count": null,
   "metadata": {},
   "outputs": [],
   "source": [
    "u = find_urns('vinter', 50, 0)"
   ]
  },
  {
   "cell_type": "code",
   "execution_count": null,
   "metadata": {},
   "outputs": [],
   "source": [
    "pics = find_picture('nidarosdomen')"
   ]
  },
  {
   "cell_type": "code",
   "execution_count": null,
   "metadata": {},
   "outputs": [],
   "source": [
    "pics"
   ]
  },
  {
   "cell_type": "code",
   "execution_count": null,
   "metadata": {},
   "outputs": [],
   "source": [
    "bilde_fra_urn = \"https://www.nb.no/services/image/resolver/{urn}/full/{h},{w}/0/native.jpg\""
   ]
  },
  {
   "cell_type": "code",
   "execution_count": null,
   "metadata": {},
   "outputs": [],
   "source": []
  },
  {
   "cell_type": "code",
   "execution_count": null,
   "metadata": {},
   "outputs": [],
   "source": [
    "r = load_picture('https://www.nb.no/services/image/resolver/URN:NBN:no-nb_digifoto_20151218_00131_blds_07657/full/full/0/native.jpg')"
   ]
  },
  {
   "cell_type": "code",
   "execution_count": null,
   "metadata": {},
   "outputs": [],
   "source": [
    "Image.open(r)"
   ]
  },
  {
   "cell_type": "code",
   "execution_count": null,
   "metadata": {},
   "outputs": [],
   "source": [
    "pics"
   ]
  },
  {
   "cell_type": "code",
   "execution_count": null,
   "metadata": {},
   "outputs": [],
   "source": [
    "Image.open(r)"
   ]
  },
  {
   "cell_type": "code",
   "execution_count": null,
   "metadata": {},
   "outputs": [],
   "source": [
    "requests.get(\"https://api.nb.no/catalog/v1/iiif/URN:NBN:no-nb_digifoto_20150223_00091_bldsa_HA0200/manifest\").json()"
   ]
  },
  {
   "cell_type": "code",
   "execution_count": null,
   "metadata": {},
   "outputs": [],
   "source": [
    "get_manifest('URN:NBN:no-nb_digifoto_20150223_00091_bldsa_HA0200')"
   ]
  },
  {
   "cell_type": "code",
   "execution_count": null,
   "metadata": {},
   "outputs": [],
   "source": [
    "_41['metadata']"
   ]
  },
  {
   "cell_type": "code",
   "execution_count": null,
   "metadata": {},
   "outputs": [],
   "source": [
    "_41.keys()"
   ]
  },
  {
   "cell_type": "code",
   "execution_count": null,
   "metadata": {},
   "outputs": [],
   "source": [
    "_41['license']"
   ]
  },
  {
   "cell_type": "code",
   "execution_count": null,
   "metadata": {},
   "outputs": [],
   "source": [
    "_41['sequences'][0]['canvases'][0]['images'][0]['resource']['@id']"
   ]
  },
  {
   "cell_type": "code",
   "execution_count": null,
   "metadata": {},
   "outputs": [],
   "source": [
    " \"r.raw.decode_content = True\""
   ]
  },
  {
   "cell_type": "code",
   "execution_count": null,
   "metadata": {},
   "outputs": [],
   "source": [
    "\"\"\"\"https://api.nb.no:443/catalog/v1/search{?q,page,size,sort,grouping,boost,should,aggs,searchType,topRight,bottomLeft,precision,explain,dq,digitalAccessibleOnly,filter,aq,snippets,fragments,fragSize,random,profile,expand,mediaTypeOrder,mediaTypeSize}\",\"\"\""
   ]
  },
  {
   "cell_type": "code",
   "execution_count": null,
   "metadata": {},
   "outputs": [],
   "source": [
    "x = super_search('nidarosdomen')"
   ]
  },
  {
   "cell_type": "code",
   "execution_count": null,
   "metadata": {},
   "outputs": [],
   "source": [
    "picture(x, 0, 400)"
   ]
  },
  {
   "cell_type": "code",
   "execution_count": null,
   "metadata": {},
   "outputs": [],
   "source": [
    "Image.open(load_picture(picture(x, 0, 400)))"
   ]
  }
 ],
 "metadata": {
  "kernelspec": {
   "display_name": "Python 3",
   "language": "python",
   "name": "python3"
  },
  "language_info": {
   "codemirror_mode": {
    "name": "ipython",
    "version": 3
   },
   "file_extension": ".py",
   "mimetype": "text/x-python",
   "name": "python",
   "nbconvert_exporter": "python",
   "pygments_lexer": "ipython3",
   "version": "3.7.0"
  }
 },
 "nbformat": 4,
 "nbformat_minor": 2
}

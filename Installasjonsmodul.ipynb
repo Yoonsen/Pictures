{
 "cells": [
  {
   "cell_type": "markdown",
   "metadata": {},
   "source": [
    "# Installer programmer til Anaconda Python\n",
    "\n",
    "Ikke alt kommer med Anaconda, så vi må fylle på med noen pakker. "
   ]
  },
  {
   "cell_type": "markdown",
   "metadata": {},
   "source": [
    "### Oppgrader pip for å slippe advarsler - pip er installasjonsprogram for Python."
   ]
  },
  {
   "cell_type": "code",
   "execution_count": 11,
   "metadata": {},
   "outputs": [
    {
     "name": "stdout",
     "output_type": "stream",
     "text": [
      "Collecting ipykernel\n",
      "  Downloading https://files.pythonhosted.org/packages/d8/b0/f0be5c5ab335196f5cce96e5b889a4fcf5bfe462eb0acc05cd7e2caf65eb/ipykernel-5.1.0-py3-none-any.whl (113kB)\n",
      "Requirement already satisfied: ipython>=5.0.0 in d:\\anaconda3\\lib\\site-packages (from ipykernel) (6.2.1)\n",
      "Requirement already satisfied: jupyter-client in d:\\anaconda3\\lib\\site-packages (from ipykernel) (5.2.2)\n",
      "Requirement already satisfied: tornado>=4.2 in d:\\anaconda3\\lib\\site-packages (from ipykernel) (4.5.3)\n",
      "Requirement already satisfied: traitlets>=4.1.0 in d:\\anaconda3\\lib\\site-packages (from ipykernel) (4.3.2)\n",
      "Requirement already satisfied: setuptools>=18.5 in d:\\anaconda3\\lib\\site-packages (from ipython>=5.0.0->ipykernel) (38.4.0)\n",
      "Requirement already satisfied: jedi>=0.10 in d:\\anaconda3\\lib\\site-packages (from ipython>=5.0.0->ipykernel) (0.11.1)\n",
      "Requirement already satisfied: decorator in d:\\anaconda3\\lib\\site-packages (from ipython>=5.0.0->ipykernel) (4.2.1)\n",
      "Requirement already satisfied: pickleshare in d:\\anaconda3\\lib\\site-packages (from ipython>=5.0.0->ipykernel) (0.7.4)\n",
      "Requirement already satisfied: simplegeneric>0.8 in d:\\anaconda3\\lib\\site-packages (from ipython>=5.0.0->ipykernel) (0.8.1)\n",
      "Requirement already satisfied: prompt_toolkit<2.0.0,>=1.0.4 in d:\\anaconda3\\lib\\site-packages (from ipython>=5.0.0->ipykernel) (1.0.15)\n",
      "Requirement already satisfied: pygments in d:\\anaconda3\\lib\\site-packages (from ipython>=5.0.0->ipykernel) (2.2.0)\n",
      "Requirement already satisfied: colorama in d:\\anaconda3\\lib\\site-packages (from ipython>=5.0.0->ipykernel) (0.3.9)\n",
      "Requirement already satisfied: jupyter_core in d:\\anaconda3\\lib\\site-packages (from jupyter-client->ipykernel) (4.4.0)\n",
      "Requirement already satisfied: pyzmq>=13 in d:\\anaconda3\\lib\\site-packages (from jupyter-client->ipykernel) (16.0.3)\n",
      "Requirement already satisfied: python-dateutil>=2.1 in d:\\anaconda3\\lib\\site-packages (from jupyter-client->ipykernel) (2.6.1)\n",
      "Requirement already satisfied: ipython_genutils in d:\\anaconda3\\lib\\site-packages (from traitlets>=4.1.0->ipykernel) (0.2.0)\n",
      "Requirement already satisfied: six in d:\\anaconda3\\lib\\site-packages (from traitlets>=4.1.0->ipykernel) (1.11.0)\n",
      "Requirement already satisfied: parso==0.1.* in d:\\anaconda3\\lib\\site-packages (from jedi>=0.10->ipython>=5.0.0->ipykernel) (0.1.1)\n",
      "Requirement already satisfied: wcwidth in d:\\anaconda3\\lib\\site-packages (from prompt_toolkit<2.0.0,>=1.0.4->ipython>=5.0.0->ipykernel) (0.1.7)\n",
      "Installing collected packages: ipykernel\n",
      "Successfully installed ipykernel-5.1.0\n"
     ]
    }
   ],
   "source": [
    "!pip install ipykernel"
   ]
  },
  {
   "cell_type": "code",
   "execution_count": 12,
   "metadata": {},
   "outputs": [
    {
     "name": "stdout",
     "output_type": "stream",
     "text": [
      "Requirement already up-to-date: pip in d:\\anaconda3\\lib\\site-packages (18.1)\n"
     ]
    }
   ],
   "source": [
    "!python.exe -m pip install --upgrade pip"
   ]
  },
  {
   "cell_type": "markdown",
   "metadata": {},
   "source": [
    "### Louvain for å lage clustre på nettverk"
   ]
  },
  {
   "cell_type": "code",
   "execution_count": 13,
   "metadata": {},
   "outputs": [
    {
     "name": "stdout",
     "output_type": "stream",
     "text": [
      "Requirement already satisfied: python_louvain in d:\\anaconda3\\lib\\site-packages (0.10)\n",
      "Requirement already satisfied: networkx in d:\\anaconda3\\lib\\site-packages (from python_louvain) (2.1)\n",
      "Requirement already satisfied: decorator>=4.1.0 in d:\\anaconda3\\lib\\site-packages (from networkx->python_louvain) (4.2.1)\n"
     ]
    }
   ],
   "source": [
    "!pip install python_louvain"
   ]
  },
  {
   "cell_type": "markdown",
   "metadata": {},
   "source": [
    "### Wordcloud for å tegne ordskyer"
   ]
  },
  {
   "cell_type": "code",
   "execution_count": 14,
   "metadata": {},
   "outputs": [
    {
     "name": "stdout",
     "output_type": "stream",
     "text": [
      "Collecting msgpack\n",
      "  Downloading https://files.pythonhosted.org/packages/04/81/c6363198f24ec1c56e5c48ce685cb532e175125adade0cdb181c8c5fea6e/msgpack-0.5.6-cp36-cp36m-win_amd64.whl (85kB)\n",
      "Installing collected packages: msgpack\n",
      "Successfully installed msgpack-0.5.6\n",
      "Requirement already satisfied: wordcloud in d:\\anaconda3\\lib\\site-packages (1.5.0)\n",
      "Requirement already satisfied: numpy>=1.6.1 in d:\\anaconda3\\lib\\site-packages (from wordcloud) (1.14.0)\n",
      "Requirement already satisfied: pillow in d:\\anaconda3\\lib\\site-packages (from wordcloud) (5.0.0)\n"
     ]
    }
   ],
   "source": [
    "!pip install msgpack\n",
    "!pip install wordcloud"
   ]
  },
  {
   "cell_type": "markdown",
   "metadata": {},
   "source": [
    "\n",
    "### OpenCV for å analysere bilder"
   ]
  },
  {
   "cell_type": "code",
   "execution_count": 15,
   "metadata": {},
   "outputs": [
    {
     "name": "stdout",
     "output_type": "stream",
     "text": [
      "Requirement already satisfied: opencv-python in d:\\anaconda3\\lib\\site-packages (3.4.3.18)\n",
      "Requirement already satisfied: numpy>=1.11.3 in d:\\anaconda3\\lib\\site-packages (from opencv-python) (1.14.0)\n"
     ]
    }
   ],
   "source": [
    "!pip install opencv-python"
   ]
  },
  {
   "cell_type": "code",
   "execution_count": null,
   "metadata": {},
   "outputs": [],
   "source": []
  }
 ],
 "metadata": {
  "kernelspec": {
   "display_name": "Python 3",
   "language": "python",
   "name": "python3"
  },
  "language_info": {
   "codemirror_mode": {
    "name": "ipython",
    "version": 3
   },
   "file_extension": ".py",
   "mimetype": "text/x-python",
   "name": "python",
   "nbconvert_exporter": "python",
   "pygments_lexer": "ipython3",
   "version": "3.6.4"
  }
 },
 "nbformat": 4,
 "nbformat_minor": 2
}

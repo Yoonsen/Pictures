{
 "cells": [
  {
   "cell_type": "code",
   "execution_count": 1,
   "metadata": {},
   "outputs": [],
   "source": [
    "from nbpictures import find_urls, get_picture_from_url, get_metadata_from_url, display_finds, load_picture\n",
    "from IPython.display import HTML\n",
    "import skimage\n",
    "from skimage import feature\n",
    "import pickle\n",
    "import json\n",
    "import io"
   ]
  },
  {
   "cell_type": "code",
   "execution_count": null,
   "metadata": {},
   "outputs": [],
   "source": []
  },
  {
   "cell_type": "code",
   "execution_count": 5,
   "metadata": {},
   "outputs": [],
   "source": [
    "r = find_urls('bodø, wilse')"
   ]
  },
  {
   "cell_type": "code",
   "execution_count": 6,
   "metadata": {},
   "outputs": [
    {
     "data": {
      "text/plain": [
       "['https://www.nb.no/services/image/resolver/URN:NBN:no-nb_foto_NF_W_24348/full/{width},{height}/0/native.jpg',\n",
       " 'https://www.nb.no/services/image/resolver/URN:NBN:no-nb_foto_NF_W_32402/full/{width},{height}/0/native.jpg',\n",
       " 'https://www.nb.no/services/image/resolver/URN:NBN:no-nb_foto_NF_W_32406/full/{width},{height}/0/native.jpg',\n",
       " 'https://www.nb.no/services/image/resolver/URN:NBN:no-nb_foto_NF_W_32403/full/{width},{height}/0/native.jpg',\n",
       " 'https://www.nb.no/services/image/resolver/URN:NBN:no-nb_foto_NF_W_35721/full/{width},{height}/0/native.jpg',\n",
       " 'https://www.nb.no/services/image/resolver/URN:NBN:no-nb_foto_NF_W_33034/full/{width},{height}/0/native.jpg',\n",
       " 'https://www.nb.no/services/image/resolver/URN:NBN:no-nb_foto_NF_W_24352/full/{width},{height}/0/native.jpg',\n",
       " 'https://www.nb.no/services/image/resolver/URN:NBN:no-nb_foto_NF_W_24353_A/full/{width},{height}/0/native.jpg',\n",
       " 'https://www.nb.no/services/image/resolver/URN:NBN:no-nb_foto_NF_W_24351/full/{width},{height}/0/native.jpg',\n",
       " 'https://www.nb.no/services/image/resolver/URN:NBN:no-nb_foto_NF_W_32405/full/{width},{height}/0/native.jpg',\n",
       " 'https://www.nb.no/services/image/resolver/URN:NBN:no-nb_foto_NF_W_32401/full/{width},{height}/0/native.jpg',\n",
       " 'https://www.nb.no/services/image/resolver/URN:NBN:no-nb_foto_NF_W_32404/full/{width},{height}/0/native.jpg',\n",
       " 'https://www.nb.no/services/image/resolver/URN:NBN:no-nb_foto_NF_W_24347_A/full/{width},{height}/0/native.jpg',\n",
       " 'https://www.nb.no/services/image/resolver/URN:NBN:no-nb_foto_NF_W_24349/full/{width},{height}/0/native.jpg',\n",
       " 'https://www.nb.no/services/image/resolver/URN:NBN:no-nb_foto_NF_W_20257/full/{width},{height}/0/native.jpg',\n",
       " 'https://www.nb.no/services/image/resolver/URN:NBN:no-nb_foto_NF_W_24347_B/full/{width},{height}/0/native.jpg',\n",
       " 'https://www.nb.no/services/image/resolver/URN:NBN:no-nb_foto_NF_W_24398/full/{width},{height}/0/native.jpg',\n",
       " 'https://www.nb.no/services/image/resolver/URN:NBN:no-nb_foto_NF_W_24353_B/full/{width},{height}/0/native.jpg',\n",
       " 'https://www.nb.no/services/image/resolver/URN:NBN:no-nb_foto_NF_W_24399/full/{width},{height}/0/native.jpg',\n",
       " 'https://www.nb.no/services/image/resolver/URN:NBN:no-nb_foto_NF_W_04149/full/{width},{height}/0/native.jpg',\n",
       " 'https://www.nb.no/services/image/resolver/URN:NBN:no-nb_foto_NF_W_04148/full/{width},{height}/0/native.jpg',\n",
       " 'https://www.nb.no/services/image/resolver/URN:NBN:no-nb_foto_NF_W_32413/full/{width},{height}/0/native.jpg',\n",
       " 'https://www.nb.no/services/image/resolver/URN:NBN:no-nb_foto_NF_W_32412/full/{width},{height}/0/native.jpg',\n",
       " 'https://www.nb.no/services/image/resolver/URN:NBN:no-nb_foto_NF_W_32411/full/{width},{height}/0/native.jpg',\n",
       " 'https://www.nb.no/services/image/resolver/URN:NBN:no-nb_foto_NF_W_32835/full/{width},{height}/0/native.jpg',\n",
       " 'https://www.nb.no/services/image/resolver/URN:NBN:no-nb_foto_NF_W_24350/full/{width},{height}/0/native.jpg',\n",
       " 'https://www.nb.no/services/image/resolver/URN:NBN:no-nb_foto_NF_W_27008/full/{width},{height}/0/native.jpg',\n",
       " 'https://www.nb.no/services/image/resolver/URN:NBN:no-nb_foto_NF_W_32409/full/{width},{height}/0/native.jpg',\n",
       " 'https://www.nb.no/services/image/resolver/URN:NBN:no-nb_foto_NF_W_32408/full/{width},{height}/0/native.jpg',\n",
       " 'https://www.nb.no/services/image/resolver/URN:NBN:no-nb_foto_NF_W_32407/full/{width},{height}/0/native.jpg',\n",
       " 'https://www.nb.no/services/image/resolver/URN:NBN:no-nb_foto_NF_W_46645/full/{width},{height}/0/native.jpg',\n",
       " 'https://www.nb.no/services/image/resolver/URN:NBN:no-nb_foto_NF_W_46648/full/{width},{height}/0/native.jpg']"
      ]
     },
     "execution_count": 6,
     "metadata": {},
     "output_type": "execute_result"
    }
   ],
   "source": [
    "r"
   ]
  },
  {
   "cell_type": "code",
   "execution_count": 11,
   "metadata": {},
   "outputs": [],
   "source": [
    "p = get_picture_from_url(r[0], width=500)"
   ]
  },
  {
   "cell_type": "code",
   "execution_count": 13,
   "metadata": {},
   "outputs": [
    {
     "data": {
      "text/plain": [
       "{'Tittel': 'Wilse, Anders Beer',\n",
       " 'Dato': '01.05.1924',\n",
       " 'Andre opplysninger': 'Prot: Bodø',\n",
       " 'Fotograf': 'Wilse, Anders Beer',\n",
       " 'Produsent': 'Wilse, Anders Beer',\n",
       " 'Tilvirker': 'Wilse, Anders Beer',\n",
       " 'Omtalt/Avbildet': 'Bodø domkirke',\n",
       " 'Sted': 'Bodø, Bodø',\n",
       " 'Emne': 'by | domkirke | havn | dampbåter',\n",
       " 'Kilde for metadata': 'galnor.nb.no (117811)',\n",
       " 'Omfang': 'Negativ s/h nitrat 16 x 21',\n",
       " 'Medietype': 'bilder',\n",
       " 'Eier': 'Norsk Folkemuseum',\n",
       " 'Tilgang': 'Tilgang for alle',\n",
       " 'Varig lenke': '<a href=\"https://urn.nb.no/URN:NBN:no-nb_foto_NF_W_24348\" target=\"_blank\">https://urn.nb.no/URN:NBN:no-nb_foto_NF_W_24348</a>',\n",
       " '': '<a href=\"https://www.nb.no/items/849428e56e088a887b13e390d650fec0?manifest=https://api.nb.no/catalog/v1/iiif/849428e56e088a887b13e390d650fec0/manifest\" target=\"_blank\"><img src=\"https://www.nb.no/content/uploads/2018/08/logo-iiif.png\" alt=\"IIIF Drag-n-drop\"></a>'}"
      ]
     },
     "execution_count": 13,
     "metadata": {},
     "output_type": "execute_result"
    }
   ],
   "source": [
    "get_metadata_from_url(r[0])"
   ]
  },
  {
   "cell_type": "code",
   "execution_count": null,
   "metadata": {},
   "outputs": [],
   "source": [
    "find_urls??"
   ]
  },
  {
   "cell_type": "code",
   "execution_count": null,
   "metadata": {},
   "outputs": [],
   "source": [
    "from nbpictures import super_search"
   ]
  },
  {
   "cell_type": "code",
   "execution_count": null,
   "metadata": {},
   "outputs": [],
   "source": [
    "super_search('vinter')"
   ]
  },
  {
   "cell_type": "code",
   "execution_count": null,
   "metadata": {},
   "outputs": [],
   "source": [
    "x = super_search('vinter')\n",
    "[f['_links']['thumbnail_custom']['href']\n",
    "            for f in x['_embedded']['items'] \n",
    "            if f['accessInfo']['accessAllowedFrom'] == 'EVERYWHERE'\n",
    "            and 'thumbnail_custom' in f['_links']]"
   ]
  },
  {
   "cell_type": "code",
   "execution_count": null,
   "metadata": {},
   "outputs": [],
   "source": [
    "with io.BytesIO() as output:\n",
    "    p.save(output, format='PNG')\n",
    "    contents = output.getvalue()"
   ]
  },
  {
   "cell_type": "code",
   "execution_count": null,
   "metadata": {},
   "outputs": [],
   "source": []
  },
  {
   "cell_type": "code",
   "execution_count": 8,
   "metadata": {},
   "outputs": [
    {
     "data": {
      "text/plain": [
       "array([], shape=(0, 3), dtype=float64)"
      ]
     },
     "execution_count": 8,
     "metadata": {},
     "output_type": "execute_result"
    }
   ],
   "source": [
    "fs = feature.blob_dog(p)\n",
    "fs"
   ]
  },
  {
   "cell_type": "code",
   "execution_count": 9,
   "metadata": {},
   "outputs": [
    {
     "data": {
      "text/plain": [
       "b''"
      ]
     },
     "execution_count": 9,
     "metadata": {},
     "output_type": "execute_result"
    }
   ],
   "source": [
    "fs.tostring()"
   ]
  },
  {
   "cell_type": "code",
   "execution_count": 10,
   "metadata": {},
   "outputs": [
    {
     "ename": "NameError",
     "evalue": "name 'np' is not defined",
     "output_type": "error",
     "traceback": [
      "\u001b[1;31m---------------------------------------------------------------------------\u001b[0m",
      "\u001b[1;31mNameError\u001b[0m                                 Traceback (most recent call last)",
      "\u001b[1;32m<ipython-input-10-436427524996>\u001b[0m in \u001b[0;36m<module>\u001b[1;34m()\u001b[0m\n\u001b[1;32m----> 1\u001b[1;33m \u001b[0mnp\u001b[0m\u001b[1;33m.\u001b[0m\u001b[0mfrombuffer\u001b[0m\u001b[1;33m(\u001b[0m\u001b[0m_58\u001b[0m\u001b[1;33m)\u001b[0m\u001b[1;33m\u001b[0m\u001b[0m\n\u001b[0m",
      "\u001b[1;31mNameError\u001b[0m: name 'np' is not defined"
     ]
    }
   ],
   "source": [
    "np.frombuffer(_58)"
   ]
  },
  {
   "cell_type": "code",
   "execution_count": null,
   "metadata": {},
   "outputs": [],
   "source": [
    "np.array(np.array_str(fs))"
   ]
  },
  {
   "cell_type": "code",
   "execution_count": null,
   "metadata": {},
   "outputs": [],
   "source": [
    "np.fromstring(np.array_repr(fs))"
   ]
  },
  {
   "cell_type": "code",
   "execution_count": null,
   "metadata": {},
   "outputs": [],
   "source": [
    "feature.blob_doh(p)"
   ]
  },
  {
   "cell_type": "code",
   "execution_count": null,
   "metadata": {},
   "outputs": [],
   "source": [
    "import matplotlib.pyplot as plt\n",
    "import numpy as np\n",
    "img = np.array(p)\n",
    "fig, ax = plt.subplots()\n",
    "ax.imshow(img)"
   ]
  },
  {
   "cell_type": "code",
   "execution_count": null,
   "metadata": {},
   "outputs": [],
   "source": [
    "from matplotlib.patches import Circle, Wedge, Polygon\n",
    "fig, ax = plt.subplots()\n",
    "for f in fs:\n",
    "    print(f)\n",
    "    c = Circle((f[0], f[1]), f[3], fill=False)\n",
    "    ax.add_artist(c)\n",
    "ax.imshow(img)\n"
   ]
  },
  {
   "cell_type": "code",
   "execution_count": null,
   "metadata": {},
   "outputs": [],
   "source": [
    "p"
   ]
  },
  {
   "cell_type": "code",
   "execution_count": null,
   "metadata": {},
   "outputs": [],
   "source": [
    "get_metadata_from_url(r[4])"
   ]
  },
  {
   "cell_type": "code",
   "execution_count": null,
   "metadata": {},
   "outputs": [],
   "source": [
    "import sqlite3\n",
    "import re\n",
    "with sqlite3.connect('test.db') as con:\n",
    "    cur = con.cursor()\n",
    "    cur.execute(\"create table if not exists foto (urn varchar, metadata varchar, feature varchar)\")\n",
    "    for i in r:\n",
    "        p = get_picture_from_url(i, width=300)\n",
    "        m = json.dumps(get_metadata_from_url(i))\n",
    "        s = feature.blob_doh(p)\n",
    "        f = s.tostring()\n",
    "        urn = re.findall(\"(URN.*?)(?:/)\", i)[0]\n",
    "        #print(urn, m, f)\n",
    "        cur.execute(\"insert into foto values (?, ?, ?)\", (urn, m, f))\n"
   ]
  },
  {
   "cell_type": "code",
   "execution_count": null,
   "metadata": {},
   "outputs": [],
   "source": [
    "with sqlite3.connect('test.db') as con:\n",
    "    cur = con.cursor()\n",
    "    cur.execute(\"select * from foto\")\n",
    "    for row in cur:\n",
    "        urn = row[0]\n",
    "        meta = json.loads(row[1])\n",
    "        feature = np.frombuffer(row[2])\n",
    "        print(urn, meta, feature)"
   ]
  },
  {
   "cell_type": "code",
   "execution_count": null,
   "metadata": {},
   "outputs": [],
   "source": [
    "\n",
    "r[0]"
   ]
  },
  {
   "cell_type": "code",
   "execution_count": null,
   "metadata": {
    "scrolled": false
   },
   "outputs": [],
   "source": [
    "display_finds??"
   ]
  }
 ],
 "metadata": {
  "kernelspec": {
   "display_name": "Python 3",
   "language": "python",
   "name": "python3"
  },
  "language_info": {
   "codemirror_mode": {
    "name": "ipython",
    "version": 3
   },
   "file_extension": ".py",
   "mimetype": "text/x-python",
   "name": "python",
   "nbconvert_exporter": "python",
   "pygments_lexer": "ipython3",
   "version": "3.6.5"
  }
 },
 "nbformat": 4,
 "nbformat_minor": 2
}
